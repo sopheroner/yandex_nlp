{
 "cells": [
  {
   "cell_type": "markdown",
   "metadata": {},
   "source": [
    "# Импорт библиотек"
   ]
  },
  {
   "cell_type": "code",
   "execution_count": 892,
   "metadata": {
    "ExecuteTime": {
     "end_time": "2024-05-17T14:16:27.050763700Z",
     "start_time": "2024-05-17T14:16:26.967978600Z"
    }
   },
   "outputs": [],
   "source": [
    "import pandas as pd\n",
    "from sklearn.feature_extraction.text import CountVectorizer\n",
    "from sklearn.feature_extraction.text import TfidfTransformer, TfidfVectorizer\n",
    "import matplotlib.pyplot as plt\n",
    "import nltk\n",
    "import faiss\n",
    "import string"
   ]
  },
  {
   "cell_type": "markdown",
   "metadata": {},
   "source": [
    "# Считываю датасет"
   ]
  },
  {
   "cell_type": "code",
   "execution_count": 893,
   "metadata": {
    "ExecuteTime": {
     "end_time": "2024-05-17T14:16:27.053752100Z",
     "start_time": "2024-05-17T14:16:26.973490400Z"
    }
   },
   "outputs": [
    {
     "data": {
      "text/plain": "   dr_id                                         question_1  \\\n0      1  After how many hour from drinking an antibioti...   \n1      1  After how many hour from drinking an antibioti...   \n2      1          Am I over weight (192.9) for my age (39)?   \n3      1          Am I over weight (192.9) for my age (39)?   \n4      1  Aspirin allergy - is it worth getting a bracelet?   \n5      1  Aspirin allergy - is it worth getting a bracelet?   \n6      1  At a doctor's visit, I hit my head against a b...   \n7      1  At a doctor's visit, I hit my head against a b...   \n8      1  Been on antibiotics 4 5wks top high tooth dent...   \n9      1  Been on antibiotics 4 5wks top high tooth dent...   \n\n                                          question_2  label  \n0  I have a party tonight and I took my last dose...      1  \n1  I vomited this morning and I am not sure if it...      0  \n2  I am a 39 y/o male currently weighing about 19...      1  \n3  What diet is good for losing weight? Keto or v...      0  \n4  How much Aspirin can I take for my headache wi...      0  \n5  My friend told me about this bracelet for Aspi...      1  \n6  Is it okay if I use the same syringe for my in...      0  \n7  Today morning, I had an appointment with the d...      1  \n8  I am unable to get tooth extraction, my dentis...      1  \n9  Why do I have black teeth? Should I take antib...      0  ",
      "text/html": "<div>\n<style scoped>\n    .dataframe tbody tr th:only-of-type {\n        vertical-align: middle;\n    }\n\n    .dataframe tbody tr th {\n        vertical-align: top;\n    }\n\n    .dataframe thead th {\n        text-align: right;\n    }\n</style>\n<table border=\"1\" class=\"dataframe\">\n  <thead>\n    <tr style=\"text-align: right;\">\n      <th></th>\n      <th>dr_id</th>\n      <th>question_1</th>\n      <th>question_2</th>\n      <th>label</th>\n    </tr>\n  </thead>\n  <tbody>\n    <tr>\n      <th>0</th>\n      <td>1</td>\n      <td>After how many hour from drinking an antibioti...</td>\n      <td>I have a party tonight and I took my last dose...</td>\n      <td>1</td>\n    </tr>\n    <tr>\n      <th>1</th>\n      <td>1</td>\n      <td>After how many hour from drinking an antibioti...</td>\n      <td>I vomited this morning and I am not sure if it...</td>\n      <td>0</td>\n    </tr>\n    <tr>\n      <th>2</th>\n      <td>1</td>\n      <td>Am I over weight (192.9) for my age (39)?</td>\n      <td>I am a 39 y/o male currently weighing about 19...</td>\n      <td>1</td>\n    </tr>\n    <tr>\n      <th>3</th>\n      <td>1</td>\n      <td>Am I over weight (192.9) for my age (39)?</td>\n      <td>What diet is good for losing weight? Keto or v...</td>\n      <td>0</td>\n    </tr>\n    <tr>\n      <th>4</th>\n      <td>1</td>\n      <td>Aspirin allergy - is it worth getting a bracelet?</td>\n      <td>How much Aspirin can I take for my headache wi...</td>\n      <td>0</td>\n    </tr>\n    <tr>\n      <th>5</th>\n      <td>1</td>\n      <td>Aspirin allergy - is it worth getting a bracelet?</td>\n      <td>My friend told me about this bracelet for Aspi...</td>\n      <td>1</td>\n    </tr>\n    <tr>\n      <th>6</th>\n      <td>1</td>\n      <td>At a doctor's visit, I hit my head against a b...</td>\n      <td>Is it okay if I use the same syringe for my in...</td>\n      <td>0</td>\n    </tr>\n    <tr>\n      <th>7</th>\n      <td>1</td>\n      <td>At a doctor's visit, I hit my head against a b...</td>\n      <td>Today morning, I had an appointment with the d...</td>\n      <td>1</td>\n    </tr>\n    <tr>\n      <th>8</th>\n      <td>1</td>\n      <td>Been on antibiotics 4 5wks top high tooth dent...</td>\n      <td>I am unable to get tooth extraction, my dentis...</td>\n      <td>1</td>\n    </tr>\n    <tr>\n      <th>9</th>\n      <td>1</td>\n      <td>Been on antibiotics 4 5wks top high tooth dent...</td>\n      <td>Why do I have black teeth? Should I take antib...</td>\n      <td>0</td>\n    </tr>\n  </tbody>\n</table>\n</div>"
     },
     "execution_count": 893,
     "metadata": {},
     "output_type": "execute_result"
    }
   ],
   "source": [
    "df = pd.read_parquet('train-00000-of-00001.parquet')\n",
    "all_texts = list(set(df['question_1'].to_list() + df['question_2'].to_list())) # Всего 4567 уникальных вопроса\n",
    "METRICS = {}\n",
    "TOPN = 6\n",
    "df.head(10)"
   ]
  },
  {
   "cell_type": "markdown",
   "source": [
    "Сохраняю текст для инференса"
   ],
   "metadata": {
    "collapsed": false
   }
  },
  {
   "cell_type": "code",
   "execution_count": 894,
   "outputs": [],
   "source": [
    "with open('all_texts.txt', 'w', encoding=\"utf-8\") as f_obj:\n",
    "    text_row = \"!!!!!\".join(all_texts)\n",
    "    f_obj.write(text_row)"
   ],
   "metadata": {
    "collapsed": false,
    "ExecuteTime": {
     "end_time": "2024-05-17T14:16:27.120751500Z",
     "start_time": "2024-05-17T14:16:26.985859Z"
    }
   }
  },
  {
   "cell_type": "markdown",
   "source": [
    "# Функция для визуализации метрик"
   ],
   "metadata": {
    "collapsed": false
   }
  },
  {
   "cell_type": "code",
   "execution_count": 895,
   "outputs": [],
   "source": [
    "def metric_visual():\n",
    "    x_labels = list(METRICS.keys())\n",
    "    x = [i for i in range(len(x_labels))]\n",
    "    y = list(METRICS.values())\n",
    "    plt.plot(x, y)\n",
    "    plt.xticks(x, x_labels)\n",
    "    plt.xlabel('Model')\n",
    "    plt.ylabel('Accuracy@5 (%)')\n",
    "    plt.title('METRIC FOR MODELS')\n",
    "    plt.grid(alpha=0.3)\n",
    "    plt.show()"
   ],
   "metadata": {
    "collapsed": false,
    "ExecuteTime": {
     "end_time": "2024-05-17T14:16:27.122750500Z",
     "start_time": "2024-05-17T14:16:26.992605700Z"
    }
   }
  },
  {
   "cell_type": "markdown",
   "metadata": {},
   "source": [
    "# Препроцессинг\n",
    "Токенизация\\\n",
    "Использую помимо word_tokenize еще PorterStemmer"
   ]
  },
  {
   "cell_type": "code",
   "execution_count": 896,
   "metadata": {
    "ExecuteTime": {
     "end_time": "2024-05-17T14:16:27.126751700Z",
     "start_time": "2024-05-17T14:16:26.996241100Z"
    }
   },
   "outputs": [],
   "source": [
    "def tokenize(text):\n",
    "    text = ''.join([ch for ch in text if ch not in string.punctuation])\n",
    "    tokens = nltk.word_tokenize(text)\n",
    "    stem = nltk.stem.PorterStemmer()\n",
    "    stem_tokens = [stem.stem(token) for token in tokens]\n",
    "    return stem_tokens"
   ]
  },
  {
   "cell_type": "markdown",
   "source": [
    "Векторизация"
   ],
   "metadata": {
    "collapsed": false
   }
  },
  {
   "cell_type": "code",
   "execution_count": 897,
   "metadata": {
    "ExecuteTime": {
     "end_time": "2024-05-17T14:16:29.663563500Z",
     "start_time": "2024-05-17T14:16:26.999751900Z"
    }
   },
   "outputs": [
    {
     "name": "stderr",
     "output_type": "stream",
     "text": [
      "C:\\Users\\Артем Васильев\\PycharmProjects\\ya_ml_pycharm\\venv\\Lib\\site-packages\\sklearn\\feature_extraction\\text.py:525: UserWarning: The parameter 'token_pattern' will not be used since 'tokenizer' is not None'\n",
      "  warnings.warn(\n",
      "C:\\Users\\Артем Васильев\\PycharmProjects\\ya_ml_pycharm\\venv\\Lib\\site-packages\\sklearn\\feature_extraction\\text.py:408: UserWarning: Your stop_words may be inconsistent with your preprocessing. Tokenizing the stop words generated tokens ['abov', 'afterward', 'alon', 'alreadi', 'alway', 'ani', 'anoth', 'anyon', 'anyth', 'anywher', 'becam', 'becaus', 'becom', 'befor', 'besid', 'cri', 'describ', 'dure', 'els', 'elsewher', 'empti', 'everi', 'everyon', 'everyth', 'everywher', 'fifti', 'formerli', 'forti', 'ha', 'henc', 'hereaft', 'herebi', 'hi', 'howev', 'hundr', 'inde', 'latterli', 'mani', 'meanwhil', 'moreov', 'mostli', 'nobodi', 'noon', 'noth', 'nowher', 'onc', 'onli', 'otherwis', 'ourselv', 'perhap', 'pleas', 'seriou', 'sever', 'sinc', 'sincer', 'sixti', 'someon', 'someth', 'sometim', 'somewher', 'themselv', 'thenc', 'thereaft', 'therebi', 'therefor', 'thi', 'thu', 'togeth', 'twelv', 'twenti', 'veri', 'wa', 'whatev', 'whenc', 'whenev', 'wherea', 'whereaft', 'wherebi', 'wherev', 'whi', 'yourselv'] not in stop_words.\n",
      "  warnings.warn(\n"
     ]
    },
    {
     "name": "stdout",
     "output_type": "stream",
     "text": [
      "(4567, 3500)\n"
     ]
    }
   ],
   "source": [
    "def preproc_df(text):\n",
    "    vectorizer = CountVectorizer(tokenizer=tokenize,\n",
    "                                 stop_words='english',\n",
    "                                 max_features=3500)\n",
    "    vectorizer.fit(all_texts)\n",
    "    bow_cv = vectorizer.transform(text)\n",
    "    bow_cv = TfidfTransformer().fit_transform(bow_cv)\n",
    "    bow_cv = bow_cv.toarray()\n",
    "    return bow_cv\n",
    "\n",
    "q_12 = preproc_df(all_texts)\n",
    "print(q_12.shape)"
   ]
  },
  {
   "cell_type": "code",
   "execution_count": 898,
   "metadata": {
    "ExecuteTime": {
     "end_time": "2024-05-17T14:16:29.669606500Z",
     "start_time": "2024-05-17T14:16:29.665088200Z"
    }
   },
   "outputs": [],
   "source": [
    "# dims = q_12.shape[1]\n",
    "# n_cells = 5\n",
    "# quantizer = faiss.IndexFlatL2(dims)\n",
    "# idx_l2 = faiss.IndexIVFFlat(quantizer, dims, n_cells)\n",
    "# idx_l2.train(np.ascontiguousarray(q_12).astype('float32'))\n",
    "# idx_l2.add(np.ascontiguousarray(q_12).astype('float32'))\n",
    "# candidate_number = 6\n",
    "# D, I = idx_l2.search(np.ascontiguousarray(q_12).astype('float32'), candidate_number)\n",
    "# print(I, D)"
   ]
  },
  {
   "cell_type": "markdown",
   "metadata": {},
   "source": [
    "# Считаю соседей\n",
    "В качестве подсчета соседей использую библиотеку faiss"
   ]
  },
  {
   "cell_type": "code",
   "execution_count": 899,
   "metadata": {
    "ExecuteTime": {
     "end_time": "2024-05-17T14:16:30.055086600Z",
     "start_time": "2024-05-17T14:16:29.669606500Z"
    }
   },
   "outputs": [
    {
     "name": "stdout",
     "output_type": "stream",
     "text": [
      "0\n",
      "4567\n"
     ]
    }
   ],
   "source": [
    "index_base = faiss.IndexFlatL2(q_12.shape[1])\n",
    "print(index_base.ntotal)  # пока индекс пустой\n",
    "index_base.add(q_12)\n",
    "print(index_base.ntotal)\n",
    "\n",
    "D, I = index_base.search(q_12, TOPN)  # Возвращает результат: Distances, Indices"
   ]
  },
  {
   "cell_type": "markdown",
   "metadata": {},
   "source": [
    "Привожу датафреймы в массивы для подсчета метрик"
   ]
  },
  {
   "cell_type": "code",
   "execution_count": 900,
   "metadata": {
    "ExecuteTime": {
     "end_time": "2024-05-17T14:16:30.083936700Z",
     "start_time": "2024-05-17T14:16:30.057088100Z"
    }
   },
   "outputs": [],
   "source": [
    "result = []\n",
    "for ind in I:\n",
    "    row = []\n",
    "    for i in ind:\n",
    "        row.append(all_texts[i])\n",
    "    result.append(row)\n",
    "\n",
    "    \n",
    "df_dict = df.to_dict()\n",
    "df_mass = []\n",
    "df = df[df['label'] == 1]\n",
    "for i in range(len(df)):\n",
    "    df_mass.append([df_dict['question_1'][i], df_dict['question_2'][i]])"
   ]
  },
  {
   "cell_type": "markdown",
   "metadata": {},
   "source": [
    "# Accuracy @ 5"
   ]
  },
  {
   "cell_type": "code",
   "execution_count": 901,
   "outputs": [],
   "source": [
    "def accuracy_5(df_mass, result):\n",
    "    counter = 0\n",
    "    for row_df in df_mass:\n",
    "        for row_res in result:\n",
    "            if row_df[0] == row_res[0] and row_df[1] in row_res[1:]:\n",
    "                counter += 1\n",
    "                break\n",
    "    metric = (counter / len(df_mass)) * 100\n",
    "    print(f'PRED/TRUE:    {counter}/{len(df_mass)}\\nACCURACY@5: {metric}')\n",
    "    return metric"
   ],
   "metadata": {
    "collapsed": false,
    "ExecuteTime": {
     "end_time": "2024-05-17T14:16:30.084937900Z",
     "start_time": "2024-05-17T14:16:30.082428Z"
    }
   }
  },
  {
   "cell_type": "code",
   "execution_count": 902,
   "metadata": {
    "ExecuteTime": {
     "end_time": "2024-05-17T14:16:30.308053Z",
     "start_time": "2024-05-17T14:16:30.084937900Z"
    }
   },
   "outputs": [
    {
     "name": "stdout",
     "output_type": "stream",
     "text": [
      "PRED/TRUE:    1145/1524\n",
      "ACCURACY@5: 75.13123359580052\n"
     ]
    }
   ],
   "source": [
    "METRICS['Base'] = accuracy_5(df_mass, result)"
   ]
  },
  {
   "cell_type": "markdown",
   "metadata": {},
   "source": [
    "Проверяю скрипт на кастомном вопросе"
   ]
  },
  {
   "cell_type": "code",
   "execution_count": 903,
   "metadata": {
    "ExecuteTime": {
     "end_time": "2024-05-17T14:16:31.485614200Z",
     "start_time": "2024-05-17T14:16:30.310053400Z"
    }
   },
   "outputs": [
    {
     "name": "stderr",
     "output_type": "stream",
     "text": [
      "C:\\Users\\Артем Васильев\\PycharmProjects\\ya_ml_pycharm\\venv\\Lib\\site-packages\\sklearn\\feature_extraction\\text.py:525: UserWarning: The parameter 'token_pattern' will not be used since 'tokenizer' is not None'\n",
      "  warnings.warn(\n",
      "C:\\Users\\Артем Васильев\\PycharmProjects\\ya_ml_pycharm\\venv\\Lib\\site-packages\\sklearn\\feature_extraction\\text.py:408: UserWarning: Your stop_words may be inconsistent with your preprocessing. Tokenizing the stop words generated tokens ['abov', 'afterward', 'alon', 'alreadi', 'alway', 'ani', 'anoth', 'anyon', 'anyth', 'anywher', 'becam', 'becaus', 'becom', 'befor', 'besid', 'cri', 'describ', 'dure', 'els', 'elsewher', 'empti', 'everi', 'everyon', 'everyth', 'everywher', 'fifti', 'formerli', 'forti', 'ha', 'henc', 'hereaft', 'herebi', 'hi', 'howev', 'hundr', 'inde', 'latterli', 'mani', 'meanwhil', 'moreov', 'mostli', 'nobodi', 'noon', 'noth', 'nowher', 'onc', 'onli', 'otherwis', 'ourselv', 'perhap', 'pleas', 'seriou', 'sever', 'sinc', 'sincer', 'sixti', 'someon', 'someth', 'sometim', 'somewher', 'themselv', 'thenc', 'thereaft', 'therebi', 'therefor', 'thi', 'thu', 'togeth', 'twelv', 'twenti', 'veri', 'wa', 'whatev', 'whenc', 'whenev', 'wherea', 'whereaft', 'wherebi', 'wherev', 'whi', 'yourselv'] not in stop_words.\n",
      "  warnings.warn(\n"
     ]
    },
    {
     "name": "stdout",
     "output_type": "stream",
     "text": [
      "After how many hour from drinking an antibiotic can I drink alcohol?\n",
      "Effects of drinking alcohol on the body fat?\n",
      "I smoke and drink alcohol, is my sperm healthy? Can it last 7 days inside the uterus?\n",
      "I usually smoke and drink alcohol, is my sperm healthy enough to last inside the uterus for 7 days or more? \n",
      "I have not drank alcohol for a year and 8 months now. Can recently drinking 0.06 pack a day affect my liver?\n"
     ]
    }
   ],
   "source": [
    "a = ['Can I drink alcohol every day?']\n",
    "a = preproc_df(a)\n",
    "topn = 5\n",
    "D, I = index_base.search(a, topn)\n",
    "\n",
    "for el in I[0]:\n",
    "    print(all_texts[el])"
   ]
  },
  {
   "cell_type": "markdown",
   "source": [
    "# Гипотеза №1\n",
    "В тексте много сокращений. Идея - заменить сокращения полной формой"
   ],
   "metadata": {
    "collapsed": false
   }
  },
  {
   "cell_type": "code",
   "execution_count": 904,
   "outputs": [],
   "source": [
    "cuts = {\"ain't\": \"is not\", \"aren't\": \"are not\",\"can't\": \"cannot\", \"'cause\": \"because\", \"could've\": \"could have\", \"couldn't\": \"could not\", \n",
    "                       \"didn't\": \"did not\",  \"doesn't\": \"does not\", \"don't\": \"do not\", \"hadn't\": \"had not\", \"hasn't\": \"has not\", \"haven't\": \"have not\", \n",
    "                       \"he'd\": \"he would\",\"he'll\": \"he will\", \"he's\": \"he is\", \"how'd\": \"how did\", \"how'd'y\": \"how do you\", \"how'll\": \"how will\", \n",
    "                       \"how's\": \"how is\",  \"I'd\": \"I would\", \"I'd've\": \"I would have\", \"I'll\": \"I will\", \"I'll've\": \"I will have\",\"I'm\": \"I am\",\n",
    "                       \"I've\": \"I have\", \"i'd\": \"i would\", \"i'd've\": \"i would have\", \"i'll\": \"i will\",  \"i'll've\": \"i will have\",\"i'm\": \"i am\", \n",
    "                       \"i've\": \"i have\", \"isn't\": \"is not\", \"it'd\": \"it would\", \"it'd've\": \"it would have\", \"it'll\": \"it will\", \"it'll've\": \"it will have\",\n",
    "                       \"it's\": \"it is\", \"let's\": \"let us\", \"ma'am\": \"madam\", \"mayn't\": \"may not\", \"might've\": \"might have\",\"mightn't\": \"might not\",\n",
    "                       \"mightn't've\": \"might not have\", \"must've\": \"must have\", \"mustn't\": \"must not\", \"mustn't've\": \"must not have\", \"needn't\": \"need not\", \n",
    "                       \"needn't've\": \"need not have\",\"o'clock\": \"of the clock\", \"oughtn't\": \"ought not\", \"oughtn't've\": \"ought not have\", \"shan't\": \"shall not\",\n",
    "                       \"sha'n't\": \"shall not\", \"shan't've\": \"shall not have\", \"she'd\": \"she would\", \"she'd've\": \"she would have\", \"she'll\": \"she will\", \n",
    "                       \"she'll've\": \"she will have\", \"she's\": \"she is\", \"should've\": \"should have\", \"shouldn't\": \"should not\", \"shouldn't've\": \"should not have\",\n",
    "                       \"so've\": \"so have\",\"so's\": \"so as\", \"this's\": \"this is\",\"that'd\": \"that would\", \"that'd've\": \"that would have\", \"that's\": \"that is\",\n",
    "                       \"there'd\": \"there would\", \"there'd've\": \"there would have\", \"there's\": \"there is\", \"here's\": \"here is\",\"they'd\": \"they would\",\n",
    "                       \"they'd've\": \"they would have\", \"they'll\": \"they will\", \"they'll've\": \"they will have\", \"they're\": \"they are\", \"they've\": \"they have\",\n",
    "                       \"to've\": \"to have\", \"wasn't\": \"was not\", \"we'd\": \"we would\", \"we'd've\": \"we would have\", \"we'll\": \"we will\", \"we'll've\": \"we will have\",\n",
    "                       \"we're\": \"we are\", \"we've\": \"we have\", \"weren't\": \"were not\", \"what'll\": \"what will\", \"what'll've\": \"what will have\", \n",
    "                       \"what're\": \"what are\",  \"what's\": \"what is\", \"what've\": \"what have\", \"when's\": \"when is\", \"when've\": \"when have\", \"where'd\": \"where did\",\n",
    "                       \"where's\": \"where is\", \"where've\": \"where have\", \"who'll\": \"who will\", \"who'll've\": \"who will have\", \"who's\": \"who is\", \n",
    "                       \"who've\": \"who have\", \"why's\": \"why is\", \"why've\": \"why have\", \"will've\": \"will have\", \"won't\": \"will not\", \"won't've\": \"will not have\", \n",
    "                       \"would've\": \"would have\", \"wouldn't\": \"would not\", \"wouldn't've\": \"would not have\", \"y'all\": \"you all\", \"y'all'd\": \"you all would\",\n",
    "                       \"y'all'd've\": \"you all would have\",\"y'all're\": \"you all are\",\"y'all've\": \"you all have\",\"you'd\": \"you would\", \"you'd've\": \"you would have\",\n",
    "                       \"you'll\": \"you will\", \"you'll've\": \"you will have\", \"you're\": \"you are\", \"you've\": \"you have\", 'u.s':'america', 'e.g':'for example',\n",
    "                       \"etc\": \"et cetera\"}\n",
    "all_texts_copy = all_texts.copy()\n",
    "for index, row in enumerate(all_texts_copy):\n",
    "    for key, value in cuts.items():\n",
    "        row = row.replace(key, value)\n",
    "    all_texts_copy[index] = row"
   ],
   "metadata": {
    "collapsed": false,
    "ExecuteTime": {
     "end_time": "2024-05-17T14:16:31.583212800Z",
     "start_time": "2024-05-17T14:16:31.492960500Z"
    }
   }
  },
  {
   "cell_type": "markdown",
   "source": [
    "После форматирования текста создаю новую модель и ищу соседей"
   ],
   "metadata": {
    "collapsed": false
   }
  },
  {
   "cell_type": "code",
   "execution_count": 905,
   "outputs": [],
   "source": [
    "q_12 = preproc_df(all_texts_copy)\n",
    "index_сuts = faiss.IndexFlatL2(q_12.shape[1])\n",
    "index_сuts.add(q_12)\n",
    "D, I = index_сuts.search(q_12, TOPN)  # Возвращает результат: Distances, Indices"
   ],
   "metadata": {
    "collapsed": false,
    "ExecuteTime": {
     "end_time": "2024-05-17T14:16:34.611548400Z",
     "start_time": "2024-05-17T14:16:31.674217300Z"
    }
   }
  },
  {
   "cell_type": "markdown",
   "source": [
    "Форматирую индексы в массивы строк для подсчета метрик"
   ],
   "metadata": {
    "collapsed": false
   }
  },
  {
   "cell_type": "code",
   "execution_count": 906,
   "outputs": [],
   "source": [
    "result = []\n",
    "for ind in I:\n",
    "    row = []\n",
    "    for i in ind:\n",
    "        row.append(all_texts_copy[i])\n",
    "    result.append(row)"
   ],
   "metadata": {
    "collapsed": false,
    "ExecuteTime": {
     "end_time": "2024-05-17T14:16:34.626817500Z",
     "start_time": "2024-05-17T14:16:34.611548400Z"
    }
   }
  },
  {
   "cell_type": "code",
   "execution_count": 907,
   "outputs": [
    {
     "name": "stdout",
     "output_type": "stream",
     "text": [
      "PRED/TRUE:    932/1524\n",
      "ACCURACY@5: 61.15485564304461\n"
     ]
    }
   ],
   "source": [
    "METRICS['Cuts'] = accuracy_5(df_mass, result)"
   ],
   "metadata": {
    "collapsed": false,
    "ExecuteTime": {
     "end_time": "2024-05-17T14:16:34.873219Z",
     "start_time": "2024-05-17T14:16:34.627816900Z"
    }
   }
  },
  {
   "cell_type": "code",
   "execution_count": 908,
   "outputs": [
    {
     "data": {
      "text/plain": "<Figure size 640x480 with 1 Axes>",
      "image/png": "[encoded data removed]"
     },
     "metadata": {},
     "output_type": "display_data"
    }
   ],
   "source": [
    "metric_visual()"
   ],
   "metadata": {
    "collapsed": false,
    "ExecuteTime": {
     "end_time": "2024-05-17T14:16:34.939021800Z",
     "start_time": "2024-05-17T14:16:34.880204700Z"
    }
   }
  },
  {
   "cell_type": "markdown",
   "source": [
    "Как можно заметить, метрика значительно упала (> 10 %)"
   ],
   "metadata": {
    "collapsed": false
   }
  },
  {
   "cell_type": "markdown",
   "source": [
    "# Гипотеза №2\n",
    "Стоит попробовать вместо CountVectorizer использовать TfidfVectorizer"
   ],
   "metadata": {
    "collapsed": false
   }
  },
  {
   "cell_type": "code",
   "execution_count": 909,
   "outputs": [
    {
     "name": "stderr",
     "output_type": "stream",
     "text": [
      "C:\\Users\\Артем Васильев\\PycharmProjects\\ya_ml_pycharm\\venv\\Lib\\site-packages\\sklearn\\feature_extraction\\text.py:525: UserWarning: The parameter 'token_pattern' will not be used since 'tokenizer' is not None'\n",
      "  warnings.warn(\n",
      "C:\\Users\\Артем Васильев\\PycharmProjects\\ya_ml_pycharm\\venv\\Lib\\site-packages\\sklearn\\feature_extraction\\text.py:408: UserWarning: Your stop_words may be inconsistent with your preprocessing. Tokenizing the stop words generated tokens ['abov', 'afterward', 'alon', 'alreadi', 'alway', 'ani', 'anoth', 'anyon', 'anyth', 'anywher', 'becam', 'becaus', 'becom', 'befor', 'besid', 'cri', 'describ', 'dure', 'els', 'elsewher', 'empti', 'everi', 'everyon', 'everyth', 'everywher', 'fifti', 'formerli', 'forti', 'ha', 'henc', 'hereaft', 'herebi', 'hi', 'howev', 'hundr', 'inde', 'latterli', 'mani', 'meanwhil', 'moreov', 'mostli', 'nobodi', 'noon', 'noth', 'nowher', 'onc', 'onli', 'otherwis', 'ourselv', 'perhap', 'pleas', 'seriou', 'sever', 'sinc', 'sincer', 'sixti', 'someon', 'someth', 'sometim', 'somewher', 'themselv', 'thenc', 'thereaft', 'therebi', 'therefor', 'thi', 'thu', 'togeth', 'twelv', 'twenti', 'veri', 'wa', 'whatev', 'whenc', 'whenev', 'wherea', 'whereaft', 'wherebi', 'wherev', 'whi', 'yourselv'] not in stop_words.\n",
      "  warnings.warn(\n"
     ]
    },
    {
     "name": "stdout",
     "output_type": "stream",
     "text": [
      "(4567, 3500)\n"
     ]
    }
   ],
   "source": [
    "def preproc_df(text):\n",
    "    vectorizer = TfidfVectorizer(tokenizer=tokenize,\n",
    "                                 stop_words='english',\n",
    "                                 max_features=3500)\n",
    "    vectorizer.fit(all_texts)\n",
    "    bow_cv = vectorizer.transform(text)\n",
    "    tfidf = TfidfTransformer().fit_transform(bow_cv)\n",
    "    tfidf = tfidf.toarray()\n",
    "    return tfidf\n",
    "\n",
    "\n",
    "q_12 = preproc_df(all_texts)\n",
    "print(q_12.shape)"
   ],
   "metadata": {
    "collapsed": false,
    "ExecuteTime": {
     "end_time": "2024-05-17T14:16:37.588317200Z",
     "start_time": "2024-05-17T14:16:34.940022100Z"
    }
   }
  },
  {
   "cell_type": "code",
   "execution_count": 910,
   "outputs": [],
   "source": [
    "q_12 = preproc_df(all_texts)\n",
    "index_tfvec = faiss.IndexFlatL2(q_12.shape[1])\n",
    "index_tfvec.add(q_12)\n",
    "D, I = index_tfvec.search(q_12, TOPN)  # Возвращает результат: Distances, Indices"
   ],
   "metadata": {
    "collapsed": false,
    "ExecuteTime": {
     "end_time": "2024-05-17T14:16:40.369835500Z",
     "start_time": "2024-05-17T14:16:37.651323700Z"
    }
   }
  },
  {
   "cell_type": "code",
   "execution_count": 911,
   "outputs": [],
   "source": [
    "result = []\n",
    "for ind in I:\n",
    "    row = []\n",
    "    for i in ind:\n",
    "        row.append(all_texts[i])\n",
    "    result.append(row)"
   ],
   "metadata": {
    "collapsed": false,
    "ExecuteTime": {
     "end_time": "2024-05-17T14:16:40.387630300Z",
     "start_time": "2024-05-17T14:16:40.372349300Z"
    }
   }
  },
  {
   "cell_type": "code",
   "execution_count": 912,
   "outputs": [
    {
     "name": "stdout",
     "output_type": "stream",
     "text": [
      "PRED/TRUE:    1123/1524\n",
      "ACCURACY@5: 73.68766404199475\n"
     ]
    }
   ],
   "source": [
    "METRICS['TfVectorize'] = accuracy_5(df_mass, result)"
   ],
   "metadata": {
    "collapsed": false,
    "ExecuteTime": {
     "end_time": "2024-05-17T14:16:40.627158600Z",
     "start_time": "2024-05-17T14:16:40.389630400Z"
    }
   }
  },
  {
   "cell_type": "code",
   "execution_count": 913,
   "outputs": [
    {
     "data": {
      "text/plain": "<Figure size 640x480 with 1 Axes>",
      "image/png": "[encoded data removed]"
     },
     "metadata": {},
     "output_type": "display_data"
    }
   ],
   "source": [
    "metric_visual()"
   ],
   "metadata": {
    "collapsed": false,
    "ExecuteTime": {
     "end_time": "2024-05-17T14:16:40.703094600Z",
     "start_time": "2024-05-17T14:16:40.628159500Z"
    }
   }
  },
  {
   "cell_type": "markdown",
   "source": [
    "Результаты лучше, чем с предыдущей гипотезой, но все равно не дотягивает до уровня базовой модели"
   ],
   "metadata": {
    "collapsed": false
   }
  },
  {
   "cell_type": "markdown",
   "source": [
    "# В качестве финальной модели буду использовать базовую модель, тк она показала лучшие метрики\n",
    "Сохраняю модель в файл"
   ],
   "metadata": {
    "collapsed": false
   }
  },
  {
   "cell_type": "code",
   "execution_count": 914,
   "outputs": [],
   "source": [
    "from faiss import write_index\n",
    "write_index(index_base, \"mle_index.index\")"
   ],
   "metadata": {
    "collapsed": false,
    "ExecuteTime": {
     "end_time": "2024-05-17T14:16:40.774616300Z",
     "start_time": "2024-05-17T14:16:40.705094600Z"
    }
   }
  }
 ],
 "metadata": {
  "kernelspec": {
   "display_name": "Python 3",
   "language": "python",
   "name": "python3"
  },
  "language_info": {
   "codemirror_mode": {
    "name": "ipython",
    "version": 3
   },
   "file_extension": ".py",
   "mimetype": "text/x-python",
   "name": "python",
   "nbconvert_exporter": "python",
   "pygments_lexer": "ipython3",
   "version": "3.11.5"
  }
 },
 "nbformat": 4,
 "nbformat_minor": 2
}
