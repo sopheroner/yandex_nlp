{
 "cells": [
  {
   "cell_type": "code",
   "execution_count": 1,
   "outputs": [],
   "source": [
    "from transformers import BertTokenizer, BertModel\n",
    "import pandas as pd\n",
    "import torch"
   ],
   "metadata": {
    "collapsed": false,
    "ExecuteTime": {
     "end_time": "2024-05-16T15:08:07.925043300Z",
     "start_time": "2024-05-16T15:08:04.427191700Z"
    }
   },
   "id": "1fb71d2f13274976"
  },
  {
   "cell_type": "code",
   "execution_count": 2,
   "outputs": [],
   "source": [
    "df = pd.read_parquet('train-00000-of-00001.parquet')\n",
    "all_texts = list(set(df['question_1'].to_list() + df['question_2'].to_list()))"
   ],
   "metadata": {
    "collapsed": false,
    "ExecuteTime": {
     "end_time": "2024-05-16T15:08:08.008703500Z",
     "start_time": "2024-05-16T15:08:07.924051800Z"
    }
   },
   "id": "29853f64aa659aea"
  },
  {
   "cell_type": "code",
   "execution_count": 3,
   "outputs": [
    {
     "name": "stderr",
     "output_type": "stream",
     "text": [
      "C:\\Users\\Артем Васильев\\PycharmProjects\\ya_ml_pycharm\\venv\\Lib\\site-packages\\huggingface_hub\\file_download.py:1132: FutureWarning: `resume_download` is deprecated and will be removed in version 1.0.0. Downloads always resume when possible. If you want to force a new download, use `force_download=True`.\n",
      "  warnings.warn(\n"
     ]
    }
   ],
   "source": [
    "tokenizer = BertTokenizer.from_pretrained('bert-base-uncased')\n",
    "model = BertModel.from_pretrained('bert-base-uncased')"
   ],
   "metadata": {
    "collapsed": false,
    "ExecuteTime": {
     "end_time": "2024-05-16T15:08:09.403972400Z",
     "start_time": "2024-05-16T15:08:08.009703Z"
    }
   },
   "id": "2d56172926de023f"
  },
  {
   "cell_type": "code",
   "execution_count": 4,
   "outputs": [],
   "source": [
    "inputs = tokenizer(all_texts, return_tensors='pt', padding=True, truncation=True, add_special_tokens=True)"
   ],
   "metadata": {
    "collapsed": false,
    "ExecuteTime": {
     "end_time": "2024-05-16T15:08:10.621613400Z",
     "start_time": "2024-05-16T15:08:09.492992600Z"
    }
   },
   "id": "7a8edb4e191051f5"
  },
  {
   "cell_type": "code",
   "execution_count": 5,
   "outputs": [],
   "source": [
    "with torch.no_grad():\n",
    "    outputs = model(**inputs)"
   ],
   "metadata": {
    "collapsed": false,
    "ExecuteTime": {
     "end_time": "2024-05-16T15:13:44.155069400Z",
     "start_time": "2024-05-16T15:08:10.623643900Z"
    }
   },
   "id": "a48484f752f77215"
  },
  {
   "cell_type": "code",
   "execution_count": 6,
   "outputs": [
    {
     "name": "stdout",
     "output_type": "stream",
     "text": [
      "BaseModelOutputWithPoolingAndCrossAttentions(last_hidden_state=tensor([[[ 0.1095,  0.0117, -0.0361,  ..., -0.2472,  0.1636,  0.7043],\n",
      "         [ 0.5585, -0.2515, -0.5613,  ...,  0.3615,  0.1850,  0.5680],\n",
      "         [ 0.3279, -1.3304, -0.1119,  ..., -0.9534, -0.3621,  0.2564],\n",
      "         ...,\n",
      "         [ 0.3987, -0.1489,  0.2458,  ..., -0.3224, -0.3803, -0.0701],\n",
      "         [ 0.1777, -0.3384,  0.2263,  ..., -0.1517, -0.3333,  0.2461],\n",
      "         [-0.0243, -0.4833,  0.2694,  ..., -0.1109, -0.1029,  0.7304]],\n",
      "\n",
      "        [[ 0.0857,  0.1825, -0.3493,  ...,  0.0179,  0.3443,  0.5124],\n",
      "         [ 0.3847,  0.5648, -0.8161,  ...,  0.3379,  0.3431, -0.2806],\n",
      "         [-0.0807, -0.3832, -0.4109,  ...,  0.3530,  0.3988,  0.0625],\n",
      "         ...,\n",
      "         [ 0.1062,  0.3655,  0.3866,  ...,  0.1433, -0.0700,  0.0433],\n",
      "         [ 0.1143,  0.2981,  0.3395,  ...,  0.1398, -0.1654,  0.1477],\n",
      "         [-0.0858,  0.1268, -0.1573,  ...,  0.0955,  0.0854, -0.0017]],\n",
      "\n",
      "        [[ 0.3930,  0.2076, -0.0622,  ..., -0.0216,  0.3069,  0.3964],\n",
      "         [ 0.5495,  0.7917, -0.1602,  ..., -0.3175,  0.3133,  0.1771],\n",
      "         [ 0.6619,  0.1776, -0.0045,  ..., -0.2342,  0.6275, -0.0675],\n",
      "         ...,\n",
      "         [ 0.4322,  0.4284,  0.4673,  ...,  0.2738, -0.1304, -0.2258],\n",
      "         [ 0.1456,  0.1114,  0.0590,  ...,  0.4246,  0.1535, -0.2489],\n",
      "         [ 0.4779,  0.3989,  0.4967,  ...,  0.2488, -0.1464, -0.1614]],\n",
      "\n",
      "        ...,\n",
      "\n",
      "        [[-0.0682, -0.4955, -0.3912,  ..., -0.5884, -0.0215,  0.3209],\n",
      "         [ 0.3726, -0.0424, -0.3845,  ...,  0.1661,  0.3212,  0.4248],\n",
      "         [ 0.0988, -0.2586, -0.2093,  ..., -0.9880, -0.2206,  0.5002],\n",
      "         ...,\n",
      "         [ 0.3535, -0.3617, -0.0065,  ..., -0.2024, -0.0481,  0.1968],\n",
      "         [ 0.1629, -0.3777, -0.1754,  ..., -0.2582, -0.0905,  0.0851],\n",
      "         [ 0.3504, -0.2847, -0.1137,  ..., -0.3000, -0.2476,  0.0747]],\n",
      "\n",
      "        [[ 0.1519,  0.0616,  0.2471,  ...,  0.0076,  0.3045,  0.4843],\n",
      "         [ 0.3876, -0.1009, -0.3357,  ..., -0.1964,  1.1701,  0.0731],\n",
      "         [ 0.3523,  0.8189,  0.0734,  ..., -0.4188, -0.0780,  0.2232],\n",
      "         ...,\n",
      "         [-0.2128, -0.2121,  0.2065,  ..., -0.0143, -0.2655,  0.4485],\n",
      "         [ 0.2050,  0.0488,  0.6319,  ...,  0.3810, -0.2890, -0.1149],\n",
      "         [ 0.1418, -0.0160,  0.8040,  ...,  0.5119, -0.2112, -0.1795]],\n",
      "\n",
      "        [[ 0.0140,  0.3159, -0.1588,  ..., -0.2441,  0.4103,  0.6664],\n",
      "         [ 0.4865,  0.0969, -0.7005,  ...,  0.3450,  0.4963, -0.0421],\n",
      "         [ 1.0004,  0.9311,  0.0335,  ..., -0.2062,  0.3879,  0.6771],\n",
      "         ...,\n",
      "         [ 0.0109,  0.2886,  0.1529,  ...,  0.0426, -0.2071,  0.2576],\n",
      "         [ 0.3419,  0.1298,  0.2178,  ...,  0.0694, -0.2180,  0.0054],\n",
      "         [-0.0469, -0.2918, -0.8718,  ...,  0.3563,  0.2990,  0.0631]]]), pooler_output=tensor([[-0.8509, -0.3684, -0.8132,  ..., -0.7806, -0.7231,  0.8704],\n",
      "        [-0.8053, -0.2103, -0.6610,  ..., -0.6016, -0.5847,  0.8707],\n",
      "        [-0.7998, -0.3606, -0.7270,  ..., -0.6913, -0.6305,  0.8467],\n",
      "        ...,\n",
      "        [-0.8889, -0.3993, -0.8775,  ..., -0.9146, -0.7328,  0.8434],\n",
      "        [-0.7358, -0.5390, -0.9387,  ..., -0.8285, -0.7175,  0.8557],\n",
      "        [-0.9356, -0.4240, -0.8545,  ..., -0.7705, -0.7681,  0.9384]]), hidden_states=None, past_key_values=None, attentions=None, cross_attentions=None)\n"
     ]
    }
   ],
   "source": [
    "print(outputs)"
   ],
   "metadata": {
    "collapsed": false,
    "ExecuteTime": {
     "end_time": "2024-05-16T15:13:44.246190100Z",
     "start_time": "2024-05-16T15:13:44.184073400Z"
    }
   },
   "id": "e479a0a5e2a076a2"
  },
  {
   "cell_type": "code",
   "execution_count": null,
   "outputs": [],
   "source": [],
   "metadata": {
    "collapsed": false
   },
   "id": "88d815ec82552314"
  }
 ],
 "metadata": {
  "kernelspec": {
   "display_name": "Python 3",
   "language": "python",
   "name": "python3"
  },
  "language_info": {
   "codemirror_mode": {
    "name": "ipython",
    "version": 2
   },
   "file_extension": ".py",
   "mimetype": "text/x-python",
   "name": "python",
   "nbconvert_exporter": "python",
   "pygments_lexer": "ipython2",
   "version": "2.7.6"
  }
 },
 "nbformat": 4,
 "nbformat_minor": 5
}
